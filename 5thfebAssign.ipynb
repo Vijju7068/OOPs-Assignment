{
 "cells": [
  {
   "cell_type": "markdown",
   "id": "a7e54c41-b863-48ed-8905-d71cc1ccf85a",
   "metadata": {},
   "source": [
    "# Q1. Explain Class and Object with respect to Object-Oriented Programming. Give a suitable example."
   ]
  },
  {
   "cell_type": "code",
   "execution_count": 2,
   "id": "ab451272-4622-4a72-b46d-86872d8750fd",
   "metadata": {},
   "outputs": [],
   "source": [
    "# In object-oriented programming (OOP), a class is a blueprint for creating objects. It defines a set of attributes and methods that an object of that class can have. An object, on the other hand, \n",
    "# is an instance of a class. It is a specific entity that has its own set of attributes and can perform actions using the methods defined in the class.\n",
    "\n",
    "# Let's take the example of a class called \"Car\" and an object of that class called \"myCar\". The Car class may have attributes like \"make\", \"model\", \"year\", and \"color\",\n",
    "# and methods like \"start\", \"stop\", \"accelerate\", and \"brake\".\n",
    "\n",
    "# In summary, a class is a template or blueprint for creating objects with a specific set of attributes and methods. An object is an instance of a class that has its own values \n",
    "# for those attributes and can perform actions using the methods defined in the class."
   ]
  },
  {
   "cell_type": "code",
   "execution_count": 37,
   "id": "8509ded2-02c7-4fb3-ae12-78904db0f428",
   "metadata": {},
   "outputs": [
    {
     "name": "stdout",
     "output_type": "stream",
     "text": [
      "('Vijendra', 286348723, 1)\n"
     ]
    }
   ],
   "source": [
    "#Ex:\n",
    "class detail:\n",
    "    def __init__(self, name, number, exp):\n",
    "        self.name = name\n",
    "        self.number = number\n",
    "        self.exp = exp\n",
    "        \n",
    "    def return_detail(self):\n",
    "        return self.name, self.number, self.exp\n",
    "    \n",
    "vijju = detail(\"Vijendra\", 286348723, 1)\n",
    "    \n",
    "print(vijju.return_detail())\n"
   ]
  },
  {
   "cell_type": "markdown",
   "id": "b3ea4894-1cec-4043-94ed-779d010363fe",
   "metadata": {},
   "source": [
    "# Q2. Name the four pillars of OOPs."
   ]
  },
  {
   "cell_type": "code",
   "execution_count": 40,
   "id": "6f724bd1-b565-423f-89f0-cf78c63b4f1e",
   "metadata": {},
   "outputs": [
    {
     "ename": "SyntaxError",
     "evalue": "invalid syntax (593342148.py, line 1)",
     "output_type": "error",
     "traceback": [
      "\u001b[0;36m  Cell \u001b[0;32mIn[40], line 1\u001b[0;36m\u001b[0m\n\u001b[0;31m    Encapsulation: Encapsulation refers to the practice of keeping related data and behavior within a single, self-contained unit called a class. This allows for better control over\u001b[0m\n\u001b[0m                                 ^\u001b[0m\n\u001b[0;31mSyntaxError\u001b[0m\u001b[0;31m:\u001b[0m invalid syntax\n"
     ]
    }
   ],
   "source": [
    "Encapsulation: Encapsulation refers to the practice of keeping related data and behavior within a single, self-contained unit called a class. This allows for better control over\n",
    "the data and helps to prevent unintended modifications or access from outside the class.\n",
    "\n",
    "Abstraction: Abstraction refers to the process of simplifying complex systems by breaking them down into smaller, more manageable components. In OOP, abstraction is achieved by \n",
    "defining abstract classes and interfaces that provide a high-level view of the behavior of an object, without getting into the details of how that behavior is implemented.\n",
    "\n",
    "Inheritance: Inheritance is the mechanism by which a new class can be derived from an existing class, inheriting all of its attributes and behaviors. This allows for the creation of more \n",
    "specialized classes that share many of the same characteristics as their parent class.\n",
    "\n",
    "Polymorphism: Polymorphism refers to the ability of objects to take on multiple forms or behaviors, depending on the context in which they are used. In OOP, polymorphism is achieved through \n",
    "method overriding and method overloading, which allow for different implementations of the same method to be used depending on the context."
   ]
  },
  {
   "cell_type": "markdown",
   "id": "b21d5a66-eb59-4204-a5f7-113fbfb459a1",
   "metadata": {},
   "source": [
    "# Q3. Explain why the __init__() function is used. Give a suitable example."
   ]
  },
  {
   "cell_type": "code",
   "execution_count": 41,
   "id": "649c3e9a-ce76-4b8c-8bf5-0389e4a1de03",
   "metadata": {},
   "outputs": [
    {
     "ename": "SyntaxError",
     "evalue": "invalid syntax (1209458478.py, line 1)",
     "output_type": "error",
     "traceback": [
      "\u001b[0;36m  Cell \u001b[0;32mIn[41], line 1\u001b[0;36m\u001b[0m\n\u001b[0;31m    In object-oriented programming (OOP), the __init__() function is a special method that is called when an object of a class is created. It is used to initialize the attributes of\u001b[0m\n\u001b[0m       ^\u001b[0m\n\u001b[0;31mSyntaxError\u001b[0m\u001b[0;31m:\u001b[0m invalid syntax\n"
     ]
    }
   ],
   "source": [
    "In object-oriented programming (OOP), the __init__() function is a special method that is called when an object of a class is created. It is used to initialize the attributes of\n",
    "the object to certain values."
   ]
  },
  {
   "cell_type": "code",
   "execution_count": 42,
   "id": "fd8a438e-151d-4f18-8189-47a2c1b7e781",
   "metadata": {},
   "outputs": [
    {
     "name": "stdout",
     "output_type": "stream",
     "text": [
      "Hello, my name is John and I am 25 years old.\n"
     ]
    }
   ],
   "source": [
    "class Person:\n",
    "    def __init__(self, name, age):\n",
    "        self.name = name\n",
    "        self.age = age\n",
    "        \n",
    "    def say_hello(self):\n",
    "        print(f\"Hello, my name is {self.name} and I am {self.age} years old.\")\n",
    "        \n",
    "person1 = Person(\"John\", 25)\n",
    "person1.say_hello()"
   ]
  },
  {
   "cell_type": "markdown",
   "id": "80fbf074-93c9-4229-ba42-e9d48c56d89a",
   "metadata": {},
   "source": [
    "# Q4. Why self is used in OOPs?"
   ]
  },
  {
   "cell_type": "code",
   "execution_count": 43,
   "id": "0bc15b38-d819-4de7-9601-42b44955dd4e",
   "metadata": {},
   "outputs": [
    {
     "ename": "SyntaxError",
     "evalue": "invalid syntax (93289795.py, line 1)",
     "output_type": "error",
     "traceback": [
      "\u001b[0;36m  Cell \u001b[0;32mIn[43], line 1\u001b[0;36m\u001b[0m\n\u001b[0;31m    In object-oriented programming (OOP), self is a special variable that refers to the current object or instance of a class. It is used to access the attributes\u001b[0m\n\u001b[0m       ^\u001b[0m\n\u001b[0;31mSyntaxError\u001b[0m\u001b[0;31m:\u001b[0m invalid syntax\n"
     ]
    }
   ],
   "source": [
    "In object-oriented programming (OOP), self is a special variable that refers to the current object or instance of a class. It is used to access the attributes\n",
    "and methods of the object within the class.\n",
    "\n",
    "When a method of a class is called, the object on which the method is called is passed as the first argument to the method, and this object is referred to as self."
   ]
  },
  {
   "cell_type": "markdown",
   "id": "190a25e7-3b45-4693-a697-acd2b972eb47",
   "metadata": {},
   "source": [
    "# Q5. What is inheritance? Give an example for each type of inheritance."
   ]
  },
  {
   "cell_type": "code",
   "execution_count": 44,
   "id": "79fa50f0-ee8a-4a1d-8cc3-5f39eafe4ec5",
   "metadata": {},
   "outputs": [
    {
     "ename": "SyntaxError",
     "evalue": "invalid syntax (1079774323.py, line 1)",
     "output_type": "error",
     "traceback": [
      "\u001b[0;36m  Cell \u001b[0;32mIn[44], line 1\u001b[0;36m\u001b[0m\n\u001b[0;31m    Inheritance is a key feature of object-oriented programming (OOP) that allows a new class to be based on an existing class. The new class, known as the derived or child class,\u001b[0m\n\u001b[0m                     ^\u001b[0m\n\u001b[0;31mSyntaxError\u001b[0m\u001b[0;31m:\u001b[0m invalid syntax\n"
     ]
    }
   ],
   "source": [
    "Inheritance is a key feature of object-oriented programming (OOP) that allows a new class to be based on an existing class. The new class, known as the derived or child class,\n",
    "inherits the properties and behavior of the existing class, known as the base or parent class. This allows for code reuse and the creation of specialized classes that share many of\n",
    "the same characteristics as their parent class.\n"
   ]
  },
  {
   "cell_type": "code",
   "execution_count": 46,
   "id": "7b0be745-b920-47ec-a887-2a971bfd553b",
   "metadata": {},
   "outputs": [
    {
     "name": "stdout",
     "output_type": "stream",
     "text": [
      "Fido says hello!\n",
      "Woof!\n"
     ]
    }
   ],
   "source": [
    "# There are several types of inheritance in OOP:\n",
    "\n",
    "# Single Inheritance: In single inheritance, a new class is derived from a single parent class. The derived class inherits all the attributes and methods of the parent class.\n",
    "# Example:\n",
    "\n",
    "class Animal:\n",
    "    def __init__(self, name):\n",
    "        self.name = name\n",
    "        \n",
    "    def speak(self):\n",
    "        print(f\"{self.name} says hello!\")\n",
    "        \n",
    "class Dog(Animal):\n",
    "    def __init__(self, name, breed):\n",
    "        super().__init__(name)\n",
    "        self.breed = breed\n",
    "        \n",
    "    def bark(self):\n",
    "        print(\"Woof!\")\n",
    "        \n",
    "dog1 = Dog(\"Fido\", \"Labrador Retriever\")\n",
    "dog1.speak()\n",
    "dog1.bark()\n"
   ]
  },
  {
   "cell_type": "code",
   "execution_count": 47,
   "id": "0d6bb0f3-8562-4611-bdc7-16beaea8ae33",
   "metadata": {},
   "outputs": [
    {
     "name": "stdout",
     "output_type": "stream",
     "text": [
      "A.foo()\n",
      "B.bar()\n"
     ]
    }
   ],
   "source": [
    "# Multiple Inheritance: In multiple inheritance, a new class is derived from two or more parent classes. The derived class inherits all the attributes and methods of both parent classes.\n",
    "# Example:\n",
    "\n",
    "\n",
    "class A:\n",
    "    def foo(self):\n",
    "        print(\"A.foo()\")\n",
    "        \n",
    "class B:\n",
    "    def bar(self):\n",
    "        print(\"B.bar()\")\n",
    "        \n",
    "class C(A, B):\n",
    "    pass\n",
    "        \n",
    "c1 = C()\n",
    "c1.foo()\n",
    "c1.bar()\n"
   ]
  },
  {
   "cell_type": "code",
   "execution_count": 48,
   "id": "840d8e84-eab5-4214-bdff-c9c9c076fe3d",
   "metadata": {},
   "outputs": [
    {
     "name": "stdout",
     "output_type": "stream",
     "text": [
      "Fido says hello!\n",
      "Feeding the young.\n",
      "Woof!\n"
     ]
    }
   ],
   "source": [
    "# Multi-level Inheritance: In multi-level inheritance, a new class is derived from a parent class, which is itself derived from another parent class. The derived \n",
    "# class inherits all the attributes and methods of both parent classes.\n",
    "# Example:\n",
    "\n",
    "class Animal:\n",
    "    def __init__(self, name):\n",
    "        self.name = name\n",
    "        \n",
    "    def speak(self):\n",
    "        print(f\"{self.name} says hello!\")\n",
    "        \n",
    "class Mammal(Animal):\n",
    "    def feed_young(self):\n",
    "        print(\"Feeding the young.\")\n",
    "        \n",
    "class Dog(Mammal):\n",
    "    def bark(self):\n",
    "        print(\"Woof!\")\n",
    "        \n",
    "dog1 = Dog(\"Fido\")\n",
    "dog1.speak()\n",
    "dog1.feed_young()\n",
    "dog1.bark()\n"
   ]
  },
  {
   "cell_type": "code",
   "execution_count": null,
   "id": "031b5034-b5ce-45cf-a01d-e77b217d7284",
   "metadata": {},
   "outputs": [],
   "source": []
  }
 ],
 "metadata": {
  "kernelspec": {
   "display_name": "Python 3 (ipykernel)",
   "language": "python",
   "name": "python3"
  },
  "language_info": {
   "codemirror_mode": {
    "name": "ipython",
    "version": 3
   },
   "file_extension": ".py",
   "mimetype": "text/x-python",
   "name": "python",
   "nbconvert_exporter": "python",
   "pygments_lexer": "ipython3",
   "version": "3.10.8"
  }
 },
 "nbformat": 4,
 "nbformat_minor": 5
}
